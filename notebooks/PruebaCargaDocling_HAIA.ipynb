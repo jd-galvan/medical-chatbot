{
  "cells": [
    {
      "cell_type": "code",
      "execution_count": null,
      "metadata": {
        "colab": {
          "base_uri": "https://localhost:8080/"
        },
        "collapsed": true,
        "id": "3ym7taWA8v8g",
        "outputId": "12088a4f-649e-475e-a805-d7f94b520778"
      },
      "outputs": [],
      "source": [
        "!pip install docling ollama pymongo"
      ]
    },
    {
      "cell_type": "code",
      "execution_count": null,
      "metadata": {
        "colab": {
          "base_uri": "https://localhost:8080/"
        },
        "id": "3ZzIKo9t83Bm",
        "outputId": "9139cd71-8621-4370-e14b-e34cecba9101"
      },
      "outputs": [],
      "source": [
        "%%time\n",
        "from docling.document_converter import DocumentConverter\n",
        "\n",
        "source = \"RUTA_ARCHIVO\"\n",
        "converter = DocumentConverter()\n",
        "result = converter.convert(source)\n",
        "resultado_markdown = result.document.export_to_markdown()\n",
        "print(resultado_markdown)"
      ]
    },
    {
      "cell_type": "markdown",
      "metadata": {
        "id": "6AeKWcZI6_No"
      },
      "source": [
        "## Limpieza de datos y registro en MongoDB"
      ]
    },
    {
      "cell_type": "code",
      "execution_count": null,
      "metadata": {
        "id": "COSdBlB765El"
      },
      "outputs": [],
      "source": [
        "import re\n",
        "\n",
        "def eliminar_bloques_identificacion_paciente(texto):\n",
        "    lineas = texto.splitlines()\n",
        "    i = 0\n",
        "\n",
        "    while i < len(lineas):\n",
        "        if \"Financiador:\" in lineas[i]:\n",
        "            # Ver si hay <!-- image --> 1 o 2 líneas arriba\n",
        "            inicio_bloque = i\n",
        "            if i >= 1 and '<!-- image -->' in lineas[i - 1]:\n",
        "                inicio_bloque = i - 1\n",
        "            elif i >= 2 and '<!-- image -->' in lineas[i - 2]:\n",
        "                inicio_bloque = i - 2\n",
        "\n",
        "            # Buscar el fin del bloque: ## IDENTIFICACIÓN DEL PACIENTE\n",
        "            for j in range(i + 1, len(lineas)):\n",
        "                if '## IDENTIFICACIÓN DEL PACIENTE' in lineas[j]:\n",
        "                    # Eliminar desde inicio_bloque hasta j (inclusive)\n",
        "                    del lineas[inicio_bloque:j + 1]\n",
        "                    i = inicio_bloque - 1  # retroceder para continuar correctamente\n",
        "                    break\n",
        "        i += 1\n",
        "\n",
        "    return '\\n'.join(lineas)\n",
        "\n",
        "# Aplicar\n",
        "texto_limpio = eliminar_bloques_identificacion_paciente(resultado_markdown)\n"
      ]
    },
    {
      "cell_type": "code",
      "execution_count": null,
      "metadata": {
        "id": "3XdQiN2aKGIO"
      },
      "outputs": [],
      "source": [
        "# Elimina las nuevas apariciones del titulo HISTORICO DE ATENCIONES para que en una misma seccion figuren las tablas leidas\n",
        "# Se intentó concatenar las tablas para tener una tabla unificada, pero en las pruebas se observó que la segunda tabla del\n",
        "# historico de atencedentes no tenia la columna Remitido, lo cual no es grave, porq en el pdf no habia valor para las filas de esa column, sin embargo,\n",
        "# al querer concatenarlas la cantidad de columnas no coincidió\n",
        "\n",
        "\n",
        "def conservar_solo_primer_titulo_limpio(texto, titulo=\"## HISTÓRICO DE ATENCIONES\"):\n",
        "    # Buscar primera aparición exacta (con o sin espacios antes/después)\n",
        "    match = re.search(rf'\\s*{re.escape(titulo)}\\s*', texto)\n",
        "    if not match:\n",
        "        return texto  # No se encontró\n",
        "\n",
        "    # Dividir en dos partes: antes y después del primer match\n",
        "    inicio = match.start()\n",
        "    fin = match.end()\n",
        "\n",
        "    antes = texto[:inicio]\n",
        "    primera_aparicion = texto[inicio:fin]\n",
        "    despues = texto[fin:]\n",
        "\n",
        "    # Eliminar todas las demás apariciones del título (con espacios extra)\n",
        "    despues_limpio = re.sub(rf'\\s*{re.escape(titulo)}\\s*', '', despues)\n",
        "\n",
        "    return (antes + primera_aparicion + despues_limpio).strip()\n",
        "\n",
        "\n",
        "texto_limpio = conservar_solo_primer_titulo_limpio(texto_limpio)"
      ]
    },
    {
      "cell_type": "code",
      "execution_count": null,
      "metadata": {
        "id": "o4xVQrWlQZFc"
      },
      "outputs": [],
      "source": [
        "# Elimnar comentario de fecha y hora de impresion del informe\n",
        "def eliminar_fecha_hora_impreso(texto):\n",
        "    return re.sub(\n",
        "        r'\\d{2}:\\d{2}:\\d{2}\\s+\\d{2}/\\d{2}/\\d{4}\\s+Documento impreso al día',\n",
        "        '',\n",
        "        texto\n",
        "    )\n",
        "\n",
        "texto_limpio = eliminar_fecha_hora_impreso(texto_limpio)"
      ]
    },
    {
      "cell_type": "code",
      "execution_count": null,
      "metadata": {
        "id": "aMN02b7FLd6l"
      },
      "outputs": [],
      "source": [
        "# Eliminar tags de imagen\n",
        "texto_limpio = texto_limpio.replace(\"<!-- image -->\", \"\")\n",
        "\n",
        "# Eliminar cabecera INDICE que se repite muchas veces\n",
        "texto_limpio = texto_limpio.replace(\"## ÍNDICE\", \"\")\n",
        "\n",
        "# Eliminar frase Firmado electronicamente\n",
        "texto_limpio = texto_limpio.replace(\"Firmado electrónicamente\", \"\")\n",
        "\n",
        "# Eliminar líneas como \"Documento impreso al día DD/MM/AAAA HH:MM:SS\"\n",
        "texto_limpio = re.sub(r'Documento impreso al día \\d{2}/\\d{2}/\\d{4} \\d{2}:\\d{2}:\\d{2}', '', texto_limpio)\n",
        "\n",
        "# Eliminar líneas como \"Página X de Y\" (con cualquier número)\n",
        "texto_limpio = re.sub(r'Página  \\d+  de  \\d+', '', texto_limpio)\n"
      ]
    },
    {
      "cell_type": "code",
      "execution_count": null,
      "metadata": {
        "id": "O262C9TByZ58"
      },
      "outputs": [],
      "source": [
        "# Se quita los titulos NOTAS MEDICAS que se repiten\n",
        "import re\n",
        "\n",
        "def limpiar_titulos_notas_medicas(texto):\n",
        "    lineas = texto.splitlines()\n",
        "    i = 0\n",
        "    bloques = []\n",
        "\n",
        "    while i < len(lineas):\n",
        "        if lineas[i].strip() == '## NOTAS MÉDICAS':\n",
        "            inicio = i\n",
        "            i += 1\n",
        "\n",
        "            while i < len(lineas):\n",
        "                if lineas[i].strip() == '## NOTAS MÉDICAS':\n",
        "                    ventana = lineas[i+1:i+16]\n",
        "\n",
        "                    # Verificamos si hay otro encabezado dentro de la ventana\n",
        "                    hay_otro_titulo = any(l.strip() == '## NOTAS MÉDICAS' for l in ventana)\n",
        "                    hay_fecha = any(re.search(r'Fecha:\\s*\\d{2}/\\d{2}/\\d{4}\\s*\\d{2}:\\d{2}', l) for l in ventana)\n",
        "\n",
        "                    if hay_otro_titulo:\n",
        "                        # No considerar este como delimitador, seguir buscando\n",
        "                        i += 1\n",
        "                        continue\n",
        "\n",
        "                    if hay_fecha:\n",
        "                        # Este sí delimita el bloque\n",
        "                        fin = i\n",
        "                        break\n",
        "                i += 1\n",
        "            else:\n",
        "                fin = len(lineas)\n",
        "\n",
        "            bloque = '\\n'.join(lineas[inicio:fin])\n",
        "            bloques.append((inicio, fin, bloque))\n",
        "            i = fin\n",
        "        else:\n",
        "            i += 1\n",
        "\n",
        "    # Limpiar cada bloque: dejar solo el primer título\n",
        "    for inicio, fin, bloque in reversed(bloques):\n",
        "        partes = bloque.split('## NOTAS MÉDICAS')\n",
        "        bloque_limpio = '## NOTAS MÉDICAS\\n' + ''.join(partes[1:]).strip()\n",
        "        lineas[inicio:fin] = bloque_limpio.splitlines()\n",
        "\n",
        "    return '\\n'.join(lineas)\n",
        "\n",
        "texto_limpio = limpiar_titulos_notas_medicas(texto_limpio)"
      ]
    },
    {
      "cell_type": "code",
      "execution_count": null,
      "metadata": {
        "colab": {
          "base_uri": "https://localhost:8080/"
        },
        "id": "7mfS2kUl5wtv",
        "outputId": "dc515d71-a2d4-4c7c-ee7b-b559051e54d6"
      },
      "outputs": [],
      "source": [
        "print(texto_limpio)"
      ]
    },
    {
      "cell_type": "markdown",
      "metadata": {
        "id": "zug8_Z_ySOhF"
      },
      "source": [
        "## Extraer informacion del paciente"
      ]
    },
    {
      "cell_type": "code",
      "execution_count": null,
      "metadata": {
        "id": "4n18xyUILfUv"
      },
      "outputs": [],
      "source": [
        "import re\n",
        "\n",
        "def extraer_y_eliminar_info_general(texto):\n",
        "    # Buscar el bloque que comienza con INFORMACIÓN GENERAL VIGENTE y termina antes del siguiente encabezado ##\n",
        "    match = re.search(r'## INFORMACIÓN GENERAL VIGENTE(.*?)(?=##|\\Z)', texto, re.DOTALL)\n",
        "\n",
        "    if not match:\n",
        "        return None, texto  # No se encontró ese bloque\n",
        "\n",
        "    contenido = match.group(1).strip()  # Contenido del bloque (sin el encabezado)\n",
        "\n",
        "    # Quitar el bloque completo (incluyendo el título)\n",
        "    texto_sin_bloque = texto.replace(match.group(0), '').strip()\n",
        "\n",
        "    return contenido, texto_sin_bloque\n",
        "\n",
        "info_general, texto_limpio = extraer_y_eliminar_info_general(texto_limpio)"
      ]
    },
    {
      "cell_type": "code",
      "execution_count": 2,
      "metadata": {
        "colab": {
          "base_uri": "https://localhost:8080/"
        },
        "id": "8AYCndLY4Ixe",
        "outputId": "5aed93a3-9e6c-481f-ba63-d730ba98b863"
      },
      "outputs": [],
      "source": [
        "# Estableciendo conexion con base de datos para guardar la informacion del paciente\n",
        "from pymongo import MongoClient\n",
        "from getpass import getpass\n",
        "\n",
        "\n",
        "# Conectarse al servidor local (por defecto en el puerto 27017)\n",
        "client = MongoClient(getpass(\"Ingresa cadena de conexion: \"))\n",
        "\n",
        "# Nombre de la bd\n",
        "db = client[\"clinical-data\"]\n",
        "\n",
        "# Coleccion de pacientes\n",
        "coleccion_pacientes = db[\"patients\"]\n",
        "\n",
        "# Coleccion de HC\n",
        "coleccion_hc = db[\"clinical-history\"]\n"
      ]
    },
    {
      "cell_type": "code",
      "execution_count": null,
      "metadata": {
        "colab": {
          "base_uri": "https://localhost:8080/"
        },
        "id": "nQiYcaK3T1gm",
        "outputId": "f0043a95-9c1f-42bf-869c-21ca356b6b0f"
      },
      "outputs": [],
      "source": [
        "# Revisar informacion general extraida\n",
        "print(info_general)"
      ]
    },
    {
      "cell_type": "code",
      "execution_count": null,
      "metadata": {
        "colab": {
          "base_uri": "https://localhost:8080/"
        },
        "id": "TX4BlV2eTOxF",
        "outputId": "cc2cd21e-0a3a-48c6-a712-b71f9c46abb9"
      },
      "outputs": [],
      "source": [
        "#Obteniendo informacion de paciente con ayuda de llm para estructurar datos\n",
        "from ollama import Client\n",
        "from pydantic import BaseModel\n",
        "\n",
        "client = Client(host=\"http://localhost:11434\")\n",
        "\n",
        "class Patient(BaseModel):\n",
        "  tipo_identificacion: str\n",
        "  numero_identificacion: str\n",
        "  estado_civil: str\n",
        "  telefono: str\n",
        "  fecha_nacimiento: str\n",
        "  nombre_completo: str\n",
        "  genero: str\n",
        "  ocupacion: str\n",
        "  direccion: str\n",
        "  lugar_residencia: str\n",
        "\n",
        "response = client.chat(\n",
        "  messages=[\n",
        "    {\n",
        "      'role': 'user',\n",
        "      'content': f\"Extrae la informacion de este paciente: \\n {info_general}\",\n",
        "    }\n",
        "  ],\n",
        "  model='gemma3:12b', # Podemos cambiar por el modelo que estemos usando, que segun conversamos podria ser gemma3:12b\n",
        "  format=Patient.model_json_schema(),\n",
        ")\n",
        "\n",
        "paciente = Patient.model_validate_json(response.message.content)\n",
        "print(paciente)"
      ]
    },
    {
      "cell_type": "code",
      "execution_count": null,
      "metadata": {
        "colab": {
          "base_uri": "https://localhost:8080/"
        },
        "id": "uQGbvbrgVDW0",
        "outputId": "fa7dd66f-52c2-49a1-b95e-11c5a60b0c1e"
      },
      "outputs": [],
      "source": [
        "# Registrar paciente en base de datos\n",
        "resultado_paciente = coleccion_pacientes.insert_one(paciente.model_dump())\n",
        "print(\"ID insertado:\", resultado_paciente.inserted_id)"
      ]
    },
    {
      "cell_type": "markdown",
      "metadata": {
        "id": "_4yTab0eyd02"
      },
      "source": [
        "## Extraer informacion de HC"
      ]
    },
    {
      "cell_type": "code",
      "execution_count": null,
      "metadata": {
        "id": "Dbqj4A6yym0n"
      },
      "outputs": [],
      "source": [
        "import re\n",
        "\n",
        "def extraer_y_eliminar_bloque_historico(texto):\n",
        "    # Buscar el bloque que comienza con HISTÓRICO DE ATENCIONES y termina en el siguiente encabezado o el final\n",
        "    match = re.search(r'## HISTÓRICO DE ATENCIONES(.*?)(?=^## |\\Z)', texto, re.DOTALL | re.MULTILINE)\n",
        "\n",
        "    if not match:\n",
        "        return None, texto  # No se encontró el bloque\n",
        "\n",
        "    bloque = match.group(0)       # Incluye el título y el contenido\n",
        "    contenido = match.group(1).strip()  # Solo el contenido debajo del título\n",
        "\n",
        "    texto_sin_bloque = texto.replace(bloque, '').strip()\n",
        "\n",
        "    return contenido, texto_sin_bloque\n",
        "\n",
        "historico_atentionces, texto_limpio = extraer_y_eliminar_bloque_historico(texto_limpio)"
      ]
    },
    {
      "cell_type": "code",
      "execution_count": null,
      "metadata": {
        "colab": {
          "base_uri": "https://localhost:8080/"
        },
        "id": "dFxJGTV3zur0",
        "outputId": "dab80f3c-831f-4716-fc9d-d403953d5a38"
      },
      "outputs": [],
      "source": [
        "print(historico_atentionces)"
      ]
    },
    {
      "cell_type": "code",
      "execution_count": null,
      "metadata": {
        "colab": {
          "base_uri": "https://localhost:8080/"
        },
        "id": "JaOHYB1faYmY",
        "outputId": "736cab89-e311-4267-d02c-a3e38f8ade1f"
      },
      "outputs": [],
      "source": [
        "# Separacion de citas medicas\n",
        "\n",
        "import re\n",
        "citas_medicas = texto_limpio.split(\"## NOTAS MÉDICAS\")\n",
        "citas_medicas = [c for c in citas_medicas if c.strip() != \"\"]\n",
        "\n",
        "# Expresión regular que busca desde el principio del string\n",
        "patron = r'Fecha:\\s*(\\d{2}/\\d{2}/\\d{4} \\d{2}:\\d{2})'\n",
        "\n",
        "atenciones = []\n",
        "\n",
        "i = 1\n",
        "for texto in citas_medicas:\n",
        "  print(f\"Procesando historia {i}\")\n",
        "  atencion = {\n",
        "      \"fecha_hora\": \"\",\n",
        "      \"resumen\": \"\",\n",
        "      \"texto\": \"\"\n",
        "  }\n",
        "  match = re.match(patron, texto)\n",
        "  if match:\n",
        "    atencion[\"fecha_hora\"] = match.group(1)\n",
        "\n",
        "\n",
        "  resumen = \"\"\n",
        "\n",
        "  for j in range(0, len(texto), 5000):\n",
        "      bloque = texto[j:j+5000]\n",
        "\n",
        "      response = client.chat(\n",
        "          model='gemma3:12b',\n",
        "          messages=[{\n",
        "              'role': 'user',\n",
        "              'content': f\"Resume la informacion sobre la atencion medica del paciente destacando los datos importantes. No incluyas texto adicional, solo genera el resumen sencillo en un parrafo, no es necesario que especifiques detalles. \\n {bloque}\",\n",
        "          }],\n",
        "          options={\n",
        "              \"temperature\": 0.0\n",
        "          }\n",
        "      )\n",
        "\n",
        "      resumen+=response.message.content + \" \"\n",
        "\n",
        "  atencion[\"resumen\"] = resumen\n",
        "\n",
        "  atencion[\"texto\"] = texto\n",
        "\n",
        "  atenciones.append(atencion.copy())\n",
        "  i += 1\n",
        "\n",
        "\n",
        "# registra contenido de historia clinica del paciente\n",
        "hc = {\n",
        "    \"id_paciente\": str(resultado_paciente.inserted_id),\n",
        "    \"historico_atenciones\": historico_atentionces,\n",
        "    \"atenciones\": atenciones\n",
        "}\n",
        "\n",
        "resultado_hc = coleccion_hc.insert_one(hc)\n",
        "print(\"ID insertado:\", resultado_hc.inserted_id)"
      ]
    },
    {
      "cell_type": "code",
      "execution_count": null,
      "metadata": {
        "colab": {
          "base_uri": "https://localhost:8080/"
        },
        "id": "7aoV94BVBpak",
        "outputId": "14ebc595-da7a-4f86-fc54-d3eda25104af"
      },
      "outputs": [],
      "source": [
        "for atencion in atenciones:\n",
        "  print(atencion[\"resumen\"])\n",
        "  print('_____________________________')"
      ]
    },
    {
      "cell_type": "markdown",
      "metadata": {
        "id": "cysSRLvo1jOt"
      },
      "source": [
        "## Registrando en base de datos vectorial (EN PROGRESO)\n",
        "### Se evaluara si sera necesario"
      ]
    },
    {
      "cell_type": "code",
      "execution_count": null,
      "metadata": {},
      "outputs": [],
      "source": [
        "# Nuevas dependencias\n",
        "!pip install chromadb\n",
        "!pip install -qU langchain-text-splitters"
      ]
    },
    {
      "cell_type": "code",
      "execution_count": null,
      "metadata": {
        "colab": {
          "base_uri": "https://localhost:8080/"
        },
        "id": "0klQpFtZ1i8N",
        "outputId": "0a53365c-bc2a-4605-8238-2cc18531be78"
      },
      "outputs": [],
      "source": [
        "# Obtencion de texto de HC\n",
        "from bson import ObjectId\n",
        "\n",
        "print(\"Buscando HC: \", resultado_hc.inserted_id)\n",
        "# Buscar por _id\n",
        "hc = coleccion_hc.find_one({\"_id\": ObjectId(\"68055d4521ff68485c8a293b\")})"
      ]
    },
    {
      "cell_type": "code",
      "execution_count": null,
      "metadata": {},
      "outputs": [],
      "source": [
        "from langchain_text_splitters import CharacterTextSplitter\n",
        "\n",
        "# Particionando texto para insertar en bd vectorial\n",
        "documentos = []\n",
        "metadatas = []\n",
        "\n",
        "text_splitter = CharacterTextSplitter(\n",
        "    chunk_size=500,\n",
        "    chunk_overlap=50,\n",
        "    length_function=len,\n",
        "    is_separator_regex=False,\n",
        ")\n",
        "\n",
        "for cm in hc[\"atenciones\"]:\n",
        "    metadata = {\n",
        "        \"fecha_hora\": cm['fecha_hora'],\n",
        "    }\n",
        "\n",
        "    texts = text_splitter.create_documents([cm[\"texto\"]])\n",
        "    nuevos_documentos = [e.page_content for e in texts]\n",
        "    nuevos_metadatas = [metadata for _ in range(0, len(nuevos_documentos))]\n",
        "\n",
        "    documentos.extend(nuevos_documentos)\n",
        "    metadatas.extend(nuevos_metadatas)\n",
        "\n",
        "ids = [f\"{str(hc[\"_id\"])}_{i}\" for i in range(0, len(documentos))]"
      ]
    },
    {
      "cell_type": "code",
      "execution_count": 6,
      "metadata": {
        "id": "aM8H_TDWniTA"
      },
      "outputs": [],
      "source": [
        "from chromadb import HttpClient\n",
        "import chromadb.utils.embedding_functions as embedding_functions\n",
        "\n",
        "chromadb_client = HttpClient()\n",
        "\n",
        "embed_model = \"all-minilm\" # Se puede utilizar otro modelo. Incluso podriamos utilizar el gemma3:12b, pero por limitaciones de mi maquina, uso este modelo pequeno. Usaria los embeddings del gemma3:4b, pero no tiene habilitada esa funcion\n",
        "ollama_ef = embedding_functions.OllamaEmbeddingFunction(\n",
        "    url=\"https://300a-2a0c-5a85-d50a-4600-8951-4200-857d-7ed3.ngrok-free.app\",\n",
        "    model_name=embed_model,\n",
        ")"
      ]
    },
    {
      "cell_type": "code",
      "execution_count": null,
      "metadata": {},
      "outputs": [],
      "source": [
        "collection = chromadb_client.create_collection(\n",
        "        name=str(hc[\"_id\"]),\n",
        "        embedding_function=ollama_ef,\n",
        "        metadata={\"hnsw:space\": \"cosine\"} # l2 is the default\n",
        ")\n",
        "\n",
        "collection.add(documents=documentos, metadatas=metadatas, ids=ids)"
      ]
    },
    {
      "cell_type": "code",
      "execution_count": null,
      "metadata": {
        "id": "p_jT9fDR2BJw"
      },
      "outputs": [],
      "source": [
        "# Descomentar en caso se desee ELIMINAR la coleccion\n",
        "# chromadb_client.delete_collection(hc[\"_id\"])"
      ]
    },
    {
      "cell_type": "code",
      "execution_count": 9,
      "metadata": {
        "id": "ge_5YK-K4qnD"
      },
      "outputs": [],
      "source": [
        "# Funcion para consultar la coleccion de ChromaDB\n",
        "def query_chromadb(query_text, fecha_hora, n_results=1):\n",
        "    results = collection.query(\n",
        "        query_texts=[query_text],\n",
        "        where={\"fecha_hora\": fecha_hora},\n",
        "        n_results=n_results\n",
        "    )\n",
        "    return results[\"documents\"], results[\"metadatas\"]\n"
      ]
    },
    {
      "cell_type": "code",
      "execution_count": null,
      "metadata": {
        "id": "VdF0YSzN2BJw",
        "outputId": "c21689d4-efab-4793-b422-fe2b37f5205f"
      },
      "outputs": [],
      "source": [
        "query = \"exámenes físicos\"  # Change the query as needed\n",
        "response = query_chromadb(query, fecha_hora=\"21/06/2024 12:41\", n_results=1)\n",
        "print(\"######## Response from CHROMADB ########\\n\", response)"
      ]
    },
    {
      "cell_type": "code",
      "execution_count": null,
      "metadata": {
        "id": "1I9gE69n2BJw"
      },
      "outputs": [],
      "source": []
    }
  ],
  "metadata": {
    "accelerator": "GPU",
    "colab": {
      "gpuType": "T4",
      "provenance": []
    },
    "kernelspec": {
      "display_name": ".venv",
      "language": "python",
      "name": "python3"
    },
    "language_info": {
      "codemirror_mode": {
        "name": "ipython",
        "version": 3
      },
      "file_extension": ".py",
      "mimetype": "text/x-python",
      "name": "python",
      "nbconvert_exporter": "python",
      "pygments_lexer": "ipython3",
      "version": "3.12.3"
    }
  },
  "nbformat": 4,
  "nbformat_minor": 0
}
