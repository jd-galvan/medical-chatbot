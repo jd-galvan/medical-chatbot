{
 "cells": [
  {
   "cell_type": "code",
   "execution_count": null,
   "id": "594a0183",
   "metadata": {},
   "outputs": [],
   "source": [
    "!pip install pandas"
   ]
  },
  {
   "cell_type": "code",
   "execution_count": null,
   "id": "381f7d39",
   "metadata": {},
   "outputs": [],
   "source": [
    "# Leer CSV\n",
    "\n",
    "import pandas as pd\n",
    "\n",
    "df = pd.read_csv(\"preguntas_modelos_arquitecturas_gemm3.csv\")\n",
    "print(df)"
   ]
  },
  {
   "cell_type": "code",
   "execution_count": null,
   "id": "ae518088",
   "metadata": {},
   "outputs": [],
   "source": [
    "# Cargando instancias necesarias\n",
    "import os\n",
    "import sys\n",
    "sys.path.append(os.path.abspath(\"..\"))  # Ajusta según sea necesario\n",
    "\n",
    "import gradio as gr\n",
    "from pymongo import MongoClient\n",
    "from rag.llm import LLM\n",
    "from clinical_data.patients import PatientRepository\n",
    "from clinical_data.clinical_history import ClinicalHistoryRepository\n",
    "from dotenv import load_dotenv\n",
    "\n",
    "load_dotenv()\n",
    "\n",
    "# Crear el cliente\n",
    "client = MongoClient(os.environ.get(\"DATABASE_CONNECTION\"))\n",
    "\n",
    "# Crear el repositorio\n",
    "patient_repository = PatientRepository(client)\n",
    "clinical_history_repository = ClinicalHistoryRepository(client)\n",
    "\n",
    "# Crear conexión con LLM (Ollama)\n",
    "llm = LLM()\n"
   ]
  },
  {
   "cell_type": "code",
   "execution_count": null,
   "id": "63d6739c",
   "metadata": {},
   "outputs": [],
   "source": [
    "import time \n",
    "\n",
    "history = []\n",
    "respouestas = []\n",
    "tiempos_ejecucion = []\n",
    "\n",
    "for index, row in df.iterrows():\n",
    "    \n",
    "    if row[\"pregunta\"].lower() == \"hola\": # Estrategia para detectar cuando cambiar de usuario\n",
    "        history = []\n",
    "\n",
    "        patient = patient_repository.get_patient_by_id(str(row[\"identificacion_paciente\"]))\n",
    "\n",
    "        clinical_history = clinical_history_repository.get_clinical_history(\n",
    "            patient_id=str(patient[\"_id\"]))\n",
    "\n",
    "        patient = {key: patient[key] for key in [\n",
    "            \"nombre_completo\", \"fecha_nacimiento\", \"estado_civil\", \"lugar_residencia\"] if key in patient}\n",
    "\n",
    "        summary = \"\\n\\n\".join(\n",
    "            f\"Fecha y hora de la atencion: {c['fecha_hora']}\\nResumen de la atencion medica: {c['resumen']}\"\n",
    "            for c in clinical_history[\"atenciones\"]\n",
    "        )\n",
    "\n",
    "        print(\"----------------------\")\n",
    "\n",
    "    print(\"USER: \" + row[\"pregunta\"])\n",
    "    # Agregar mensaje normal del usuario\n",
    "    history.append({\"role\": \"user\", \"content\": row[\"pregunta\"]})\n",
    "\n",
    "    inicio = time.time()\n",
    "    if row[\"arquitectura\"] == \"contextual_rag\":\n",
    "        response = llm.get_response_contextual_rag(str(clinical_history[\"_id\"]), patient, summary, history, row[\"modelo\"])\n",
    "    elif row[\"arquitectura\"] == \"simple_rag\":\n",
    "        response = llm.get_response_simple_rag(str(clinical_history[\"_id\"]), patient, summary, history, row[\"modelo\"])\n",
    "    fin = time.time()\n",
    "\n",
    "    print(\"RESPONSE: \" + response)\n",
    "    history.append({\n",
    "        \"role\": \"assistant\",\n",
    "        \"content\": response\n",
    "    })\n",
    "    respouestas.append(response)\n",
    "    tiempos_ejecucion.append(fin-inicio)\n",
    "\n",
    "df[\"respuesta\"] = respouestas\n",
    "df[\"tiempo_ejecucion\"] = tiempos_ejecucion"
   ]
  },
  {
   "cell_type": "code",
   "execution_count": null,
   "id": "346fe083",
   "metadata": {},
   "outputs": [],
   "source": [
    "df"
   ]
  },
  {
   "cell_type": "code",
   "execution_count": null,
   "id": "b5f9265a",
   "metadata": {},
   "outputs": [],
   "source": []
  }
 ],
 "metadata": {
  "kernelspec": {
   "display_name": ".venv",
   "language": "python",
   "name": "python3"
  },
  "language_info": {
   "codemirror_mode": {
    "name": "ipython",
    "version": 3
   },
   "file_extension": ".py",
   "mimetype": "text/x-python",
   "name": "python",
   "nbconvert_exporter": "python",
   "pygments_lexer": "ipython3",
   "version": "3.12.3"
  }
 },
 "nbformat": 4,
 "nbformat_minor": 5
}
